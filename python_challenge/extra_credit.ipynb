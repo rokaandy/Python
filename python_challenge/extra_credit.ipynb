{
 "cells": [
  {
   "cell_type": "code",
   "execution_count": 2,
   "metadata": {},
   "outputs": [
    {
     "data": {
      "text/plain": [
       "[{'lower': 'a', 'upper': 'A', 'index': 1},\n",
       " {'lower': 'b', 'upper': 'B', 'index': 2},\n",
       " {'lower': 'c', 'upper': 'C', 'index': 3},\n",
       " {'lower': 'd', 'upper': 'D', 'index': 4},\n",
       " {'lower': 'e', 'upper': 'E', 'index': 5},\n",
       " {'lower': 'f', 'upper': 'F', 'index': 6},\n",
       " {'lower': 'g', 'upper': 'G', 'index': 7},\n",
       " {'lower': 'h', 'upper': 'H', 'index': 8},\n",
       " {'lower': 'i', 'upper': 'I', 'index': 9},\n",
       " {'lower': 'j', 'upper': 'J', 'index': 10},\n",
       " {'lower': 'k', 'upper': 'K', 'index': 11},\n",
       " {'lower': 'l', 'upper': 'L', 'index': 12},\n",
       " {'lower': 'm', 'upper': 'M', 'index': 13},\n",
       " {'lower': 'n', 'upper': 'N', 'index': 14},\n",
       " {'lower': 'o', 'upper': 'O', 'index': 15},\n",
       " {'lower': 'p', 'upper': 'P', 'index': 16},\n",
       " {'lower': 'q', 'upper': 'Q', 'index': 17},\n",
       " {'lower': 'r', 'upper': 'R', 'index': 18},\n",
       " {'lower': 's', 'upper': 'S', 'index': 19},\n",
       " {'lower': 't', 'upper': 'T', 'index': 20},\n",
       " {'lower': 'u', 'upper': 'U', 'index': 21},\n",
       " {'lower': 'v', 'upper': 'V', 'index': 22},\n",
       " {'lower': 'w', 'upper': 'W', 'index': 23},\n",
       " {'lower': 'x', 'upper': 'X', 'index': 24},\n",
       " {'lower': 'y', 'upper': 'Y', 'index': 25},\n",
       " {'lower': 'z', 'upper': 'Z', 'index': 26}]"
      ]
     },
     "execution_count": 2,
     "metadata": {},
     "output_type": "execute_result"
    }
   ],
   "source": [
    "from string import ascii_lowercase\n",
    "\n",
    "alphabet_data = []\n",
    "letters = ascii_lowercase\n",
    "\n",
    "for i in letters:\n",
    "    alphabet_data.append({'lower': i, 'upper': i.upper(), 'index': letters.index(i)+1})\n",
    "    \n",
    "alphabet_data"
   ]
  },
  {
   "cell_type": "code",
   "execution_count": null,
   "metadata": {},
   "outputs": [],
   "source": []
  }
 ],
 "metadata": {
  "kernelspec": {
   "display_name": "Python 3",
   "language": "python",
   "name": "python3"
  },
  "language_info": {
   "codemirror_mode": {
    "name": "ipython",
    "version": 3
   },
   "file_extension": ".py",
   "mimetype": "text/x-python",
   "name": "python",
   "nbconvert_exporter": "python",
   "pygments_lexer": "ipython3",
   "version": "3.7.1"
  }
 },
 "nbformat": 4,
 "nbformat_minor": 2
}
